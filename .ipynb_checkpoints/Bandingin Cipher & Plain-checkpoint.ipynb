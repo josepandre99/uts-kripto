{
 "cells": [
  {
   "cell_type": "code",
   "execution_count": 1,
   "metadata": {},
   "outputs": [],
   "source": [
    "from modes import *\n",
    "from function import *\n",
    "import time\n",
    "import pandas as pd\n",
    "import matplotlib.pyplot as plt"
   ]
  },
  {
   "cell_type": "code",
   "execution_count": 2,
   "metadata": {},
   "outputs": [],
   "source": [
    "def readFile(filename):\n",
    "    f = open(filename, \"rb\")\n",
    "    data = f.read()\n",
    "    f.close()\n",
    "    return data.decode('iso8859-1')\n",
    "\n",
    "\n",
    "def writeFile(filename, data):\n",
    "    f = open(filename, \"wb\")\n",
    "    bytearray = data.encode('iso8859-1')\n",
    "    result = f.write(bytearray)\n",
    "    f.close()\n",
    "    if (result):\n",
    "        print(\"Write file success\")\n",
    "        \n",
    "\n",
    "def writeFileText(filename, data):\n",
    "    f = open(filename, \"w+\", encoding=\"utf-8\")\n",
    "    result = f.write(data)\n",
    "    f.close()\n",
    "    if (result):\n",
    "        print(\"Write file success\")"
   ]
  },
  {
   "cell_type": "code",
   "execution_count": 3,
   "metadata": {},
   "outputs": [
    {
     "name": "stdout",
     "output_type": "stream",
     "text": [
      "Kriptografi adalah ilmu yang mempelajari teknik-teknik \r\n",
      "matematika yang berhubungan dengan aspek keamanan \r\n",
      "informasi seperti kerahasiaan, integritas data, serta \r\n",
      "otentikasi (Menez, 1996).\n"
     ]
    }
   ],
   "source": [
    "key = 'key12345key12345'\n",
    "plain_text = readFile('test/Test-text.txt')\n",
    "print(plain_text)"
   ]
  },
  {
   "cell_type": "code",
   "execution_count": 4,
   "metadata": {},
   "outputs": [],
   "source": [
    "def split(string):\n",
    "    return [ord(char) for char in string]"
   ]
  },
  {
   "cell_type": "code",
   "execution_count": 18,
   "metadata": {},
   "outputs": [
    {
     "name": "stdout",
     "output_type": "stream",
     "text": [
      "0.03806185722351074\n",
      "Write file success\n",
      "0.03516578674316406\n",
      "Write file success\n",
      "192\n",
      "192\n"
     ]
    }
   ],
   "source": [
    "# Mode ECB\n",
    "## enkripsi\n",
    "start = time.time()\n",
    "m = Modes(plain_text, key)\n",
    "cipher = m.ecb_encrypt()\n",
    "end = time.time()\n",
    "print(end - start)\n",
    "writeFileText('test/output/cipher-ECB.txt', cipher)\n",
    "\n",
    "## dekripsi\n",
    "start = time.time()\n",
    "m = Modes(cipher, key)\n",
    "plain = m.ecb_decrypt()\n",
    "end = time.time()\n",
    "print(end - start)\n",
    "writeFile('test/output/plain-ECB.txt', plain)\n",
    "\n",
    "\n",
    "while len(plain_text) < len(cipher):\n",
    "    plain_text += ' '\n",
    "    \n",
    "list_plain = split(plain_text)\n",
    "print(len(list_plain))\n",
    "list_cipher = split(cipher)\n",
    "print(len(cipher))"
   ]
  },
  {
   "cell_type": "code",
   "execution_count": 28,
   "metadata": {},
   "outputs": [],
   "source": [
    "a = pd.DataFrame(data=list_cipher)\n",
    "aa = a[0].value_counts()\n",
    "df = aa.to_frame().T\n",
    "list_cipher_freq = {\"Ascii\": list(df.columns), \"Frekuensi\": df.values[0]}\n",
    "df_cipher = pd.DataFrame(data=list_cipher_freq)\n",
    "df_cipher = df_cipher.sort_values(by='Ascii')"
   ]
  },
  {
   "cell_type": "code",
   "execution_count": 31,
   "metadata": {},
   "outputs": [],
   "source": [
    "b = pd.DataFrame(data=list_plain)\n",
    "bb = b[0].value_counts()\n",
    "df = bb.to_frame().T\n",
    "list_plain_freq = {\"Ascii\": list(df.columns), \"Frekuensi\": df.values[0]}\n",
    "df_plain = pd.DataFrame(data=list_plain_freq)\n",
    "df_plain = df_plain.sort_values(by='Ascii')"
   ]
  },
  {
   "cell_type": "code",
   "execution_count": 36,
   "metadata": {},
   "outputs": [
    {
     "data": {
      "text/plain": [
       "Text(0, 0.5, 'Frekuensi')"
      ]
     },
     "execution_count": 36,
     "metadata": {},
     "output_type": "execute_result"
    },
    {
     "data": {
      "image/png": "[encoded data removed]",
      "text/plain": [
       "<Figure size 432x288 with 1 Axes>"
      ]
     },
     "metadata": {
      "needs_background": "light"
     },
     "output_type": "display_data"
    }
   ],
   "source": [
    "plt.plot(df_plain.Ascii, df_plain.Frekuensi, label='Plain Teks')\n",
    "plt.plot(df_cipher.Ascii, df_cipher.Frekuensi, label='Cipher Teks')\n",
    "plt.title(\"Frekuensi Kemunculan Ascii pada Plain vs Cipher pada mode ECB\")\n",
    "plt.xlabel('Ascii')\n",
    "plt.ylabel('Frekuensi')"
   ]
  },
  {
   "cell_type": "code",
   "execution_count": 40,
   "metadata": {},
   "outputs": [
    {
     "name": "stdout",
     "output_type": "stream",
     "text": [
      "0.06246185302734375\n",
      "Write file success\n",
      "0.029279232025146484\n",
      "Write file success\n",
      "192\n",
      "192\n"
     ]
    }
   ],
   "source": [
    "# Mode CBC\n",
    "## enkripsi\n",
    "start = time.time()\n",
    "m = Modes(plain_text, key)\n",
    "cipher = m.cbc_encrypt()\n",
    "end = time.time()\n",
    "print(end - start)\n",
    "writeFileText('test/output/cipher-CBC.txt', cipher)\n",
    "\n",
    "## dekripsi\n",
    "start = time.time()\n",
    "m = Modes(cipher, key)\n",
    "plain = m.cbc_decrypt()\n",
    "end = time.time()\n",
    "print(end - start)\n",
    "writeFile('test/output/plain-CBC.txt', plain)\n",
    "\n",
    "\n",
    "while len(plain_text) < len(cipher):\n",
    "    plain_text += ' '\n",
    "    \n",
    "list_plain = split(plain_text)\n",
    "print(len(list_plain))\n",
    "list_cipher = split(cipher)\n",
    "print(len(cipher))"
   ]
  },
  {
   "cell_type": "code",
   "execution_count": 41,
   "metadata": {},
   "outputs": [],
   "source": [
    "a = pd.DataFrame(data=list_cipher)\n",
    "aa = a[0].value_counts()\n",
    "df = aa.to_frame().T\n",
    "list_cipher_freq = {\"Ascii\": list(df.columns), \"Frekuensi\": df.values[0]}\n",
    "df_cipher = pd.DataFrame(data=list_cipher_freq)\n",
    "df_cipher = df_cipher.sort_values(by='Ascii')"
   ]
  },
  {
   "cell_type": "code",
   "execution_count": 42,
   "metadata": {},
   "outputs": [],
   "source": [
    "b = pd.DataFrame(data=list_plain)\n",
    "bb = b[0].value_counts()\n",
    "df = bb.to_frame().T\n",
    "list_plain_freq = {\"Ascii\": list(df.columns), \"Frekuensi\": df.values[0]}\n",
    "df_plain = pd.DataFrame(data=list_plain_freq)\n",
    "df_plain = df_plain.sort_values(by='Ascii')"
   ]
  },
  {
   "cell_type": "code",
   "execution_count": 47,
   "metadata": {},
   "outputs": [
    {
     "data": {
      "image/png": "[encoded data removed]",
      "text/plain": [
       "<Figure size 432x288 with 1 Axes>"
      ]
     },
     "metadata": {
      "needs_background": "light"
     },
     "output_type": "display_data"
    }
   ],
   "source": [
    "plt.plot(df_plain.Ascii, df_plain.Frekuensi, label='Plain Teks')\n",
    "plt.plot(df_cipher.Ascii, df_cipher.Frekuensi, label='Cipher Teks')\n",
    "plt.title(\"Frekuensi Kemunculan Ascii pada Plain vs Cipher pada mode CBC\")\n",
    "plt.xlabel('Ascii')\n",
    "plt.ylabel('Frekuensi')\n",
    "plt.show()"
   ]
  },
  {
   "cell_type": "code",
   "execution_count": null,
   "metadata": {},
   "outputs": [],
   "source": []
  }
 ],
 "metadata": {
  "kernelspec": {
   "display_name": "Python 3.7.4 64-bit",
   "language": "python",
   "name": "python37464bit6ccafaf41c394baaaa448e3d68f159d3"
  },
  "language_info": {
   "codemirror_mode": {
    "name": "ipython",
    "version": 3
   },
   "file_extension": ".py",
   "mimetype": "text/x-python",
   "name": "python",
   "nbconvert_exporter": "python",
   "pygments_lexer": "ipython3",
   "version": "3.7.4"
  }
 },
 "nbformat": 4,
 "nbformat_minor": 2
}
